{
 "cells": [
  {
   "cell_type": "code",
   "execution_count": 32,
   "metadata": {
    "collapsed": false
   },
   "outputs": [],
   "source": [
    "import pandas as pd\n",
    "import numpy as np\n",
    "%matplotlib inline\n",
    "import matplotlib\n",
    "import matplotlib.pyplot as plt\n",
    "\n",
    "matplotlib.style.use('ggplot')"
   ]
  },
  {
   "cell_type": "code",
   "execution_count": 35,
   "metadata": {
    "collapsed": false
   },
   "outputs": [
    {
     "data": {
      "image/png": "[encoded data removed]",
      "text/plain": [
       "<matplotlib.figure.Figure at 0x10bb65e90>"
      ]
     },
     "metadata": {},
     "output_type": "display_data"
    }
   ],
   "source": [
    "# EU Speech Dataset Plot\n",
    "cnn_a = {\n",
    "    \"accuracy\": 0.904725609756,\n",
    "    \"precision\": 0.91,\n",
    "    \"recall\": 0.90,\n",
    "    \"f1\": 0.90,\n",
    "}\n",
    "\n",
    "cnn_b = {\n",
    "    \"accuracy\": 0.743902439024,\n",
    "    \"precision\": 0.77,\n",
    "    \"recall\": 0.74,\n",
    "    \"f1\": 0.74,\n",
    "}\n",
    "\n",
    "cnn_c = {\n",
    "    \"accuracy\": 0.5,\n",
    "    \"precision\": 0.5,\n",
    "    \"recall\": 0.5,\n",
    "    \"f1\": 0.5,\n",
    "}\n",
    "\n",
    "data = pd.DataFrame([cnn_a, cnn_b, cnn_c], index=[\"CNN_A\", \"CNN_B\", \"CNN_C\"])\n",
    "lgd = data.plot.bar().legend(loc='center left', bbox_to_anchor=(1, 0.5))\n",
    "\n",
    "plt.savefig(\"../thesis/plots/results_eu_plot.pdf\", bbox_extra_artists=(lgd,), bbox_inches='tight')"
   ]
  }
 ],
 "metadata": {
  "kernelspec": {
   "display_name": "Python 2",
   "language": "python",
   "name": "python2"
  },
  "language_info": {
   "codemirror_mode": {
    "name": "ipython",
    "version": 2
   },
   "file_extension": ".py",
   "mimetype": "text/x-python",
   "name": "python",
   "nbconvert_exporter": "python",
   "pygments_lexer": "ipython2",
   "version": "2.7.10"
  }
 },
 "nbformat": 4,
 "nbformat_minor": 0
}
